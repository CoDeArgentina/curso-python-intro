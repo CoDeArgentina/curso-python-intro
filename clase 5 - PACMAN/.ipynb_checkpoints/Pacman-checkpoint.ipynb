{
 "cells": [
  {
   "cell_type": "markdown",
   "metadata": {},
   "source": [
    "## Aplicación de POO: PACMAN"
   ]
  },
  {
   "cell_type": "markdown",
   "metadata": {},
   "source": [
    "En esta guía vamos a empezar a diseñar una versión básica del tradicional juego PACMAN, organizando el código a partir de algunos conceptos de POO."
   ]
  },
  {
   "cell_type": "markdown",
   "metadata": {},
   "source": [
    "HABLAR DE LAS VENTAJAS DE POO?"
   ]
  },
  {
   "cell_type": "markdown",
   "metadata": {},
   "source": [
    "Qué elementos van a ser clases? Pensemos en cómo es el juego...\n",
    "En primer lugar, existe un juego, que surje de la interacción entre el PACMAN, los FANTASMAS, el MAPA... Antes de pensar cómo modelar el juego pensemos en el mapa."
   ]
  },
  {
   "cell_type": "markdown",
   "metadata": {},
   "source": [
    "¿Cómo describirían un mapa?"
   ]
  },
  {
   "cell_type": "markdown",
   "metadata": {},
   "source": [
    "Una versión simple de un mapa podría considerar:\n",
    "- Ser como una matriz, lo cual lo podríamos hacer con una lista de listas\n",
    "- Ser accesible en sus posiciones, ya que vamos a querer posicionar a los fantasmas, a pacman y posiblemente otros objetos\n",
    "- Ser printeable/printable\n",
    "- Poder preguntarle si una posición existe en el mapa, o qué hay en una determinada posición"
   ]
  },
  {
   "cell_type": "code",
   "execution_count": 1,
   "metadata": {},
   "outputs": [],
   "source": [
    "class Map:\n",
    "    def __init__(self, n_rows, n_cols):\n",
    "        # primero guardo la cantidad de filas y la cantidad de columnas\n",
    "        self.n_rows = n_rows\n",
    "        self.n_cols = n_cols\n",
    "        # luego, genero un mapa vacío. Nota: ésto se puede hacer mejor usando setters, dejémoslo para otra oportunidad\n",
    "        self._map = [[[] for i in range(self.n_cols)] for x in range(self.n_rows)]\n",
    "    \n",
    "    def __getitem__(self, row):\n",
    "        # esta es una función mágica, nos va a permitir acceder de una forma muy pythonezca\n",
    "        return self._map[row] # pueden adivinar qué nos va a devolver?\n",
    "    \n",
    "    def __str__(self):\n",
    "        # esta es otra función mágica, nos va a dar un print muy canchero, y luego la vamos a modificar más\n",
    "        str_map = \"\"\n",
    "        for row in self._map:\n",
    "            for col_idx in range(len(row)):\n",
    "                str_map += str(row[col_idx])\n",
    "                if col_idx == len(row) - 1:\n",
    "                    str_map += \"\\n\"\n",
    "                \n",
    "        return str_map"
   ]
  },
  {
   "cell_type": "markdown",
   "metadata": {},
   "source": [
    "Primero, veamos para qué sirve..."
   ]
  },
  {
   "cell_type": "code",
   "execution_count": 2,
   "metadata": {},
   "outputs": [],
   "source": [
    "# instanciamos un mapa de 5 filas por 3 columnas\n",
    "game_map = Map(5,3)"
   ]
  },
  {
   "cell_type": "code",
   "execution_count": 3,
   "metadata": {},
   "outputs": [
    {
     "data": {
      "text/plain": [
       "[[], [], []]"
      ]
     },
     "execution_count": 3,
     "metadata": {},
     "output_type": "execute_result"
    }
   ],
   "source": [
    "game_map[4]"
   ]
  },
  {
   "cell_type": "code",
   "execution_count": 4,
   "metadata": {},
   "outputs": [
    {
     "name": "stdout",
     "output_type": "stream",
     "text": [
      "[][][]\n",
      "[][][]\n",
      "[][][]\n",
      "[][][]\n",
      "[][][]\n",
      "\n"
     ]
    }
   ],
   "source": [
    "print(game_map)"
   ]
  },
  {
   "cell_type": "markdown",
   "metadata": {},
   "source": [
    "¿Qué va a pasar a continuación...?"
   ]
  },
  {
   "cell_type": "code",
   "execution_count": 5,
   "metadata": {},
   "outputs": [
    {
     "ename": "IndexError",
     "evalue": "list index out of range",
     "output_type": "error",
     "traceback": [
      "\u001b[0;31m---------------------------------------------------------------------------\u001b[0m",
      "\u001b[0;31mIndexError\u001b[0m                                Traceback (most recent call last)",
      "\u001b[0;32m<ipython-input-5-0907db2f8642>\u001b[0m in \u001b[0;36m<module>\u001b[0;34m\u001b[0m\n\u001b[0;32m----> 1\u001b[0;31m \u001b[0mgame_map\u001b[0m\u001b[0;34m[\u001b[0m\u001b[0;36m4\u001b[0m\u001b[0;34m]\u001b[0m\u001b[0;34m[\u001b[0m\u001b[0;36m4\u001b[0m\u001b[0;34m]\u001b[0m\u001b[0;34m\u001b[0m\u001b[0;34m\u001b[0m\u001b[0m\n\u001b[0m",
      "\u001b[0;31mIndexError\u001b[0m: list index out of range"
     ]
    }
   ],
   "source": [
    "game_map[4][4]"
   ]
  },
  {
   "cell_type": "markdown",
   "metadata": {},
   "source": [
    "¿Tienen algo en común un fantasma y el pacman? Podríamos decir que, al menos, tienen en común que...\n",
    "\n",
    "1- Tienen una posición en el mapa\n",
    "\n",
    "2- Se pueden mover\n",
    "\n",
    "3- Pueden ser comidos (cuando pacman come la pastilla puede comer a los fantasmas)"
   ]
  },
  {
   "cell_type": "markdown",
   "metadata": {},
   "source": [
    " Ya que tanto los fantasmas como PACMAN pueden hacer ciertas cosas en común, podemos resumir ese comportamiento en una clase más \"abstracta\". Es decir, tanto los fantasmas como PACMAN tienen ciertos atributos y acciones en común, en ambos casos son \"personajes\" del juego. Por este motivo, comenzamos creando esa clase."
   ]
  },
  {
   "cell_type": "code",
   "execution_count": 6,
   "metadata": {},
   "outputs": [],
   "source": [
    "class Character:\n",
    "    def __init__(self, coord_x=0, coord_y=0):\n",
    "        self.coord_x = coord_x\n",
    "        self.coord_y = coord_y\n",
    "    \n",
    "    def move(self, new_coord_x, new_coord_y):\n",
    "        if self._is_valid_move(new_coord_x, new_coord_y):\n",
    "            self.coord_x = new_coord_x\n",
    "            self.coord_y = new_coord_y\n",
    "    \n",
    "    def _is_valid_move(self, coord_x, coord_y):\n",
    "        valid = False\n",
    "        if abs(coord_x - self.coord_x) == 1 and abs(coord_y - self.coord_y) == 0:\n",
    "            valid = True\n",
    "        elif abs(coord_x - self.coord_x) == 0 and abs(coord_y - self.coord_y) == 1:\n",
    "            valid = True\n",
    "        elif abs(coord_x - self.coord_x) == 1 and abs(coord_y - self.coord_y) == 1:\n",
    "            raise Exception(\"You can't move diagonally\")\n",
    "        elif abs(coord_x - self.coord_x) == 0 and abs(coord_y - self.coord_y) == 0:\n",
    "            raise Exception(\"You can't stay in the same place\")\n",
    "        else:\n",
    "            raise Exception(\"You can't move more than 1 step at a time\")\n",
    "        return valid"
   ]
  },
  {
   "cell_type": "code",
   "execution_count": 7,
   "metadata": {},
   "outputs": [],
   "source": [
    "character = Character()"
   ]
  },
  {
   "cell_type": "code",
   "execution_count": 8,
   "metadata": {},
   "outputs": [
    {
     "ename": "Exception",
     "evalue": "You can't stay in the same place",
     "output_type": "error",
     "traceback": [
      "\u001b[0;31m---------------------------------------------------------------------------\u001b[0m",
      "\u001b[0;31mException\u001b[0m                                 Traceback (most recent call last)",
      "\u001b[0;32m<ipython-input-8-5ab8f3223e09>\u001b[0m in \u001b[0;36m<module>\u001b[0;34m\u001b[0m\n\u001b[0;32m----> 1\u001b[0;31m \u001b[0mresponse\u001b[0m \u001b[0;34m=\u001b[0m \u001b[0mcharacter\u001b[0m\u001b[0;34m.\u001b[0m\u001b[0mmove\u001b[0m\u001b[0;34m(\u001b[0m\u001b[0;36m0\u001b[0m\u001b[0;34m,\u001b[0m\u001b[0;36m0\u001b[0m\u001b[0;34m)\u001b[0m\u001b[0;34m\u001b[0m\u001b[0;34m\u001b[0m\u001b[0m\n\u001b[0m",
      "\u001b[0;32m<ipython-input-6-5533ab0e42ab>\u001b[0m in \u001b[0;36mmove\u001b[0;34m(self, new_coord_x, new_coord_y)\u001b[0m\n\u001b[1;32m      5\u001b[0m \u001b[0;34m\u001b[0m\u001b[0m\n\u001b[1;32m      6\u001b[0m     \u001b[0;32mdef\u001b[0m \u001b[0mmove\u001b[0m\u001b[0;34m(\u001b[0m\u001b[0mself\u001b[0m\u001b[0;34m,\u001b[0m \u001b[0mnew_coord_x\u001b[0m\u001b[0;34m,\u001b[0m \u001b[0mnew_coord_y\u001b[0m\u001b[0;34m)\u001b[0m\u001b[0;34m:\u001b[0m\u001b[0;34m\u001b[0m\u001b[0;34m\u001b[0m\u001b[0m\n\u001b[0;32m----> 7\u001b[0;31m         \u001b[0;32mif\u001b[0m \u001b[0mself\u001b[0m\u001b[0;34m.\u001b[0m\u001b[0m_is_valid_move\u001b[0m\u001b[0;34m(\u001b[0m\u001b[0mnew_coord_x\u001b[0m\u001b[0;34m,\u001b[0m \u001b[0mnew_coord_y\u001b[0m\u001b[0;34m)\u001b[0m\u001b[0;34m:\u001b[0m\u001b[0;34m\u001b[0m\u001b[0;34m\u001b[0m\u001b[0m\n\u001b[0m\u001b[1;32m      8\u001b[0m             \u001b[0mself\u001b[0m\u001b[0;34m.\u001b[0m\u001b[0mcoord_x\u001b[0m \u001b[0;34m=\u001b[0m \u001b[0mnew_coord_x\u001b[0m\u001b[0;34m\u001b[0m\u001b[0;34m\u001b[0m\u001b[0m\n\u001b[1;32m      9\u001b[0m             \u001b[0mself\u001b[0m\u001b[0;34m.\u001b[0m\u001b[0mcoord_y\u001b[0m \u001b[0;34m=\u001b[0m \u001b[0mnew_coord_y\u001b[0m\u001b[0;34m\u001b[0m\u001b[0;34m\u001b[0m\u001b[0m\n",
      "\u001b[0;32m<ipython-input-6-5533ab0e42ab>\u001b[0m in \u001b[0;36m_is_valid_move\u001b[0;34m(self, coord_x, coord_y)\u001b[0m\n\u001b[1;32m     18\u001b[0m             \u001b[0;32mraise\u001b[0m \u001b[0mException\u001b[0m\u001b[0;34m(\u001b[0m\u001b[0;34m\"You can't move diagonally\"\u001b[0m\u001b[0;34m)\u001b[0m\u001b[0;34m\u001b[0m\u001b[0;34m\u001b[0m\u001b[0m\n\u001b[1;32m     19\u001b[0m         \u001b[0;32melif\u001b[0m \u001b[0mabs\u001b[0m\u001b[0;34m(\u001b[0m\u001b[0mcoord_x\u001b[0m \u001b[0;34m-\u001b[0m \u001b[0mself\u001b[0m\u001b[0;34m.\u001b[0m\u001b[0mcoord_x\u001b[0m\u001b[0;34m)\u001b[0m \u001b[0;34m==\u001b[0m \u001b[0;36m0\u001b[0m \u001b[0;32mand\u001b[0m \u001b[0mabs\u001b[0m\u001b[0;34m(\u001b[0m\u001b[0mcoord_y\u001b[0m \u001b[0;34m-\u001b[0m \u001b[0mself\u001b[0m\u001b[0;34m.\u001b[0m\u001b[0mcoord_y\u001b[0m\u001b[0;34m)\u001b[0m \u001b[0;34m==\u001b[0m \u001b[0;36m0\u001b[0m\u001b[0;34m:\u001b[0m\u001b[0;34m\u001b[0m\u001b[0;34m\u001b[0m\u001b[0m\n\u001b[0;32m---> 20\u001b[0;31m             \u001b[0;32mraise\u001b[0m \u001b[0mException\u001b[0m\u001b[0;34m(\u001b[0m\u001b[0;34m\"You can't stay in the same place\"\u001b[0m\u001b[0;34m)\u001b[0m\u001b[0;34m\u001b[0m\u001b[0;34m\u001b[0m\u001b[0m\n\u001b[0m\u001b[1;32m     21\u001b[0m         \u001b[0;32melse\u001b[0m\u001b[0;34m:\u001b[0m\u001b[0;34m\u001b[0m\u001b[0;34m\u001b[0m\u001b[0m\n\u001b[1;32m     22\u001b[0m             \u001b[0;32mraise\u001b[0m \u001b[0mException\u001b[0m\u001b[0;34m(\u001b[0m\u001b[0;34m\"You can't move more than 1 step at a time\"\u001b[0m\u001b[0;34m)\u001b[0m\u001b[0;34m\u001b[0m\u001b[0;34m\u001b[0m\u001b[0m\n",
      "\u001b[0;31mException\u001b[0m: You can't stay in the same place"
     ]
    }
   ],
   "source": [
    "response = character.move(0,0)"
   ]
  },
  {
   "cell_type": "code",
   "execution_count": 9,
   "metadata": {},
   "outputs": [],
   "source": [
    "class PowerPill:\n",
    "    def __repr__(self):\n",
    "        return \"O\""
   ]
  },
  {
   "cell_type": "code",
   "execution_count": 10,
   "metadata": {},
   "outputs": [],
   "source": [
    "class Wall:\n",
    "    def __repr__(self):\n",
    "        return \"|\""
   ]
  },
  {
   "cell_type": "code",
   "execution_count": 11,
   "metadata": {},
   "outputs": [],
   "source": [
    "class Ghost(Character):\n",
    "    def __init__(self, coord_x=0, coord_y=0):\n",
    "        super().__init__(coord_x, coord_y)\n",
    "    def __repr__(self):\n",
    "        return \"G\""
   ]
  },
  {
   "cell_type": "code",
   "execution_count": 12,
   "metadata": {},
   "outputs": [],
   "source": [
    "class Pacman(Character):\n",
    "    def __init__(self, coord_x:int=0, coord_y:int=0):\n",
    "        super().__init__(coord_x, coord_y)\n",
    "    def __repr__(self):\n",
    "        return \"P\""
   ]
  },
  {
   "cell_type": "code",
   "execution_count": 15,
   "metadata": {},
   "outputs": [],
   "source": [
    "class EmptyCell:\n",
    "    def __repr__(self):\n",
    "        return \" \""
   ]
  },
  {
   "cell_type": "code",
   "execution_count": 16,
   "metadata": {},
   "outputs": [],
   "source": [
    "class Map:\n",
    "    def __init__(self, n_rows:int, n_cols:int):\n",
    "        # primero guardo la cantidad de filas y la cantidad de columnas\n",
    "        self.n_rows = n_rows\n",
    "        self.n_cols = n_cols\n",
    "        # luego, genero un mapa vacío. Nota: ésto se puede hacer mejor usando setters, dejémoslo para otra oportunidad\n",
    "        self._map = [[[EmptyCell()] for i in range(self.n_cols)] for x in range(self.n_rows)]\n",
    "    \n",
    "    def __getitem__(self, row:int):\n",
    "        # esta es una función mágica, nos va a permitir acceder de una forma muy pythonezca\n",
    "        return self._map[row] # pueden adivinar qué nos va a devolver?\n",
    "    \n",
    "    def __str__(self):\n",
    "        str_map = \"\"\n",
    "        for row in self._map:\n",
    "            for col_idx in range(len(row)):\n",
    "                element = row[col_idx][0]\n",
    "                str_map += str(element)\n",
    "                if col_idx == len(row) - 1:\n",
    "                    str_map += \"\\n\"\n",
    "                \n",
    "        return str_map"
   ]
  },
  {
   "cell_type": "code",
   "execution_count": null,
   "metadata": {},
   "outputs": [],
   "source": [
    "class Game:\n",
    "    \n",
    "    def __init__(self, game_map):\n",
    "        self.game_map = game_map\n",
    "        self.score = 0\n",
    "    \n",
    "    def populate(self, element, n):\n",
    "        \n",
    "        \n",
    "        "
   ]
  },
  {
   "cell_type": "code",
   "execution_count": 17,
   "metadata": {},
   "outputs": [],
   "source": [
    "import random"
   ]
  },
  {
   "cell_type": "code",
   "execution_count": null,
   "metadata": {},
   "outputs": [],
   "source": [
    "randint."
   ]
  },
  {
   "cell_type": "code",
   "execution_count": 44,
   "metadata": {},
   "outputs": [],
   "source": [
    "game_map = Map(5,7)"
   ]
  },
  {
   "cell_type": "code",
   "execution_count": 45,
   "metadata": {},
   "outputs": [],
   "source": [
    "game_map.generate_map(pacman=Pacman(4,3), ghosts=[Ghost(0,1),Ghost(0,3)])"
   ]
  },
  {
   "cell_type": "code",
   "execution_count": 46,
   "metadata": {},
   "outputs": [
    {
     "name": "stdout",
     "output_type": "stream",
     "text": [
      "''X''X''''''\n",
      "''''''''''''''\n",
      "''''''''''''''\n",
      "''''''''''''''\n",
      "''''''P''''''\n",
      "\n"
     ]
    }
   ],
   "source": [
    "print(game_map)"
   ]
  },
  {
   "cell_type": "code",
   "execution_count": 53,
   "metadata": {},
   "outputs": [
    {
     "data": {
      "text/plain": [
       "<__main__.Pacman at 0x7f40daf48f98>"
      ]
     },
     "execution_count": 53,
     "metadata": {},
     "output_type": "execute_result"
    }
   ],
   "source": [
    "pacman"
   ]
  }
 ],
 "metadata": {
  "kernelspec": {
   "display_name": "Python 3",
   "language": "python",
   "name": "python3"
  },
  "language_info": {
   "codemirror_mode": {
    "name": "ipython",
    "version": 3
   },
   "file_extension": ".py",
   "mimetype": "text/x-python",
   "name": "python",
   "nbconvert_exporter": "python",
   "pygments_lexer": "ipython3",
   "version": "3.7.3"
  }
 },
 "nbformat": 4,
 "nbformat_minor": 2
}
